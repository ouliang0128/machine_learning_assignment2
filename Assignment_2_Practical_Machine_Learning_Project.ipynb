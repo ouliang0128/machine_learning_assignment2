{
  "nbformat": 4,
  "nbformat_minor": 0,
  "metadata": {
    "colab": {
      "name": " Assignment 2: Practical Machine Learning Project.ipynb",
      "provenance": [],
      "collapsed_sections": []
    },
    "kernelspec": {
      "name": "python3",
      "display_name": "Python 3"
    }
  },
  "cells": [
    {
      "cell_type": "markdown",
      "metadata": {
        "id": "T9IrWnYCXEy5",
        "colab_type": "text"
      },
      "source": [
        "# Assignment 2: Practical Machine Learning Project\n",
        "**<h3>Fraud detecion in banking buseness with multi-criteria decision making framework - A combination of Backpropagation and NSGA-II</h3>**"
      ]
    },
    {
      "cell_type": "markdown",
      "metadata": {
        "id": "Ke-_Fng7LRUJ",
        "colab_type": "text"
      },
      "source": [
        "Student Name | Student ID \n",
        "---|---\n",
        "Liang Ou |  13060835 \n",
        "Guanhua Zeng| 12992677\n",
        "\n",
        "Github link: https://github.com/ouliang0128/machine_learning_assignment2"
      ]
    },
    {
      "cell_type": "markdown",
      "metadata": {
        "colab_type": "text",
        "id": "vwkuP8ZQrDkL"
      },
      "source": [
        "# Abstract\n",
        "Since a variety of digital transaction approaches be popular in daily life, the probability of transaction data fraud raises in the information era which leads billions of dollars of the USA to be lost. However, traditional fraud detection ways are not more suitable for the growing amount of data. For detecting the fraud data quicker and reliable, machine learning technology is applied. Although previous literature had made a great contribution to the fraud detection area by machine learning technology, there are still some limitations to their researches. The one most important issue is about multiple-criteria decision making because the facticity of the predicted result can not only be determined by accuracy, which will be solved in this report. This paper will describe how the authors mix the artificial neural network with the non-dominating sorting genetic algorithm-II (NSGA-II) to build an MCDM framework to achieve fraud detection in the credit card data which is anonymous and provided from Kaggle and shows the tested result of the framework.\n",
        "\n",
        "**Keywords**: Machine learning, Neural network, Genetic Algorithm, MCDM and optimize"
      ]
    },
    {
      "cell_type": "markdown",
      "metadata": {
        "id": "MCur6bZeXRXA",
        "colab_type": "text"
      },
      "source": [
        "# 1.Introduction"
      ]
    },
    {
      "cell_type": "markdown",
      "metadata": {
        "id": "WBgbgksrXe5N",
        "colab_type": "text"
      },
      "source": [
        "Since the bank provides diversified online bank applications like the telephone bank, online bank and mobile bank (Guo et al. 2018) to customers, the customers not only enjoy such convenient banking services but also suffer the potential risk of credit card fraud. The only way to protect the security of the customers ' credit card is to use the PIN(password) for identification. But actually, many users would like to set up the password-free payment for low-value transactions, because it is really hard for users to remember every password of every credit cards. In 2014, from Mastercard company's survey(Kim et al. 2019) which is about the loss caused by fraud transactions or phishing, more than 118 billion dollars are stolen from customers in the USA. Therefore, it is significant to detect online or offline fraud data in the banking business.\n",
        "\n",
        "Before the data mining technology is popular, the data auditor used to detect fraud data by the traditional methods like the manual audition with data visualization tools(Turban, Sharda & Delen 2010), which is time-consuming and useless to online transactions (West & Bhattacharya 2016, p. 47).  For implementing automatical and accurate fraud data detection,  one of the successful models is achieved with the neural network and t-statistic algorithm by Ravisankar et al. (2011). However, it only focused on raising the accuracy for detecting fraud data and overlooked the imbalanced data issue. The imbalanced data issue means that the fraud data only occupy a tiny fraction of the total data set, so it doesn't make sense to judge a model by the accuracy which mostly calculated by predicting the true value as positive. Therefore, the model should be judged and trained by multi-criteria such as accuracy and AUC which is marked by the false-positive results. To achieve multi-objective optimization and decrease the computational complexity of the neural network, NSGA-II is introduced, which is one of the best multi-objective optimizations (Yusoff, Ngadiman & Zain 2011).\n",
        "\n",
        "For resolving the limitation of existing methodology, this report introduces an elementary multi-criteria decision-making framework that combines the back-propagation and NSGA-II optimization to train the classifier-neural network. In section 2, the main challenges of this research will be introduced and the data structure will also be analyzed. Besides, this section will talk about the idea of building and testing the framework. In section 3, the structure of the MCDM framework will be drawn and described in detail. Also, the back-propagation and NSGA-II will be introduced in particular. What's more, the implemented algorithm and results of this framework is shown in the 3.3 section. The next section is about the evaluation using the whole data set to test and compare the models which are the original neural network and MCDM model. Before the last section, the conclusion part will summarize this report and provide the direction of future research about the optimization. Last but not least, the ethical issues of this research will be explored and discussed by the characteristics of the technology used, referenced or implemented in this research."
      ]
    },
    {
      "cell_type": "markdown",
      "metadata": {
        "id": "nxZt79ooXg9f",
        "colab_type": "text"
      },
      "source": [
        "##1.1. Research Aims and Objectives \n",
        "This research aims to establish a framework that combines the neural network and NSGA-II algorithm to achieve data prediction through multi-criteria decision making. This framework is a scalable framework, which means it is available for further researchers to edit and add any fitness functions into training. With this automatic model, on the one hand, the fraud credit card transactions can be identified quickly and intelligently. On the other hand, the property of the credit card owner will be protected by this model when someone illegally uses their credit card."
      ]
    },
    {
      "cell_type": "markdown",
      "metadata": {
        "colab_type": "text",
        "id": "nfXdBWXhfYeU"
      },
      "source": [
        "# 2. Exploration"
      ]
    },
    {
      "cell_type": "markdown",
      "metadata": {
        "id": "oQKqYBT0q7n2",
        "colab_type": "text"
      },
      "source": [
        "In this section, the report will discuss the main challenges for the topic, and data model to address these challenges. Then, the test plan will be explained."
      ]
    },
    {
      "cell_type": "markdown",
      "metadata": {
        "id": "0-p71cT0oiMS",
        "colab_type": "text"
      },
      "source": [
        "## 2.1 Challenges\n",
        "The main challenges of detecting fraud in the banking business are class imbalance as discussed previously. To address this challenge, we use the \"re-sampling\" technique to enlarge the number of fraud records. Furthermore, the class imbalance issue leads to another issue of the ineffective of single evaluation criteria, i.e. the accuracy of the model. Thus, the idea of multi-criteria decision making has emerged as explained previously. \n",
        "As Abbass (2003) explained, the computational cost of backpropagation is too much for large neural networks. Along with its ineffective for dealing with multi-objective problems, a backpropagation optimization method is incompetent for fraud detection. Therefore, this paper combines it with NSGA-II to improve the optimization process of the neural network."
      ]
    },
    {
      "cell_type": "markdown",
      "metadata": {
        "id": "ACHR4ZY6umZX",
        "colab_type": "text"
      },
      "source": [
        "## 2.2 Data Structure\n",
        "The dataset is originally downloaded from kaggle.com to a google drive. Then it is extracted by the following code. \n",
        "We can see from the following execution result that the fraud data only consist of 0.17% of the whole dataset."
      ]
    },
    {
      "cell_type": "code",
      "metadata": {
        "id": "ufmPis2musfY",
        "colab_type": "code",
        "colab": {}
      },
      "source": [
        "# First dataset is downloaded from my google drive. \n",
        "# This is because the csv file contains \n",
        "\n",
        "!pip install -U -q PyDrive\n",
        "from pydrive.auth import GoogleAuth\n",
        "from pydrive.drive import GoogleDrive\n",
        "from google.colab import auth\n",
        "from oauth2client.client import GoogleCredentials\n",
        "import pandas as pd\n",
        "import seaborn as sns\n",
        "import matplotlib.pyplot as plt\n",
        "# Authenticate and create the PyDrive client.\n",
        "auth.authenticate_user()\n",
        "gauth = GoogleAuth()\n",
        "gauth.credentials = GoogleCredentials.get_application_default()\n",
        "drive = GoogleDrive(gauth)\n",
        "link='https://drive.google.com/open?id=1yLYqckWXpxzUe6_IXNlKVKsiNC4_k2KN'\n",
        "fluff, id = link.split('=')\n",
        "downloaded = drive.CreateFile({'id':id}) \n",
        "downloaded.GetContentFile('creditcardfraud.csv')  \n",
        "df = pd.read_csv('creditcardfraud.csv')"
      ],
      "execution_count": 0,
      "outputs": []
    },
    {
      "cell_type": "code",
      "metadata": {
        "id": "8VY9mUuivjAB",
        "colab_type": "code",
        "colab": {
          "base_uri": "https://localhost:8080/",
          "height": 367
        },
        "outputId": "ff186573-e73f-4fa9-8079-98d3e4a4b146"
      },
      "source": [
        "print('No Frauds', round(df['Class'].value_counts()[0]/len(df) * 100,2), '% of the dataset')\n",
        "print('Frauds', round(df['Class'].value_counts()[1]/len(df) * 100,2), '% of the dataset')\n",
        "colors = [\"#0101DF\", \"#DF0101\"]\n",
        "\n",
        "sns.countplot('Class', data=df, palette=colors)\n",
        "plt.title('Class Distributions \\n (0: No Fraud || 1: Fraud)', fontsize=14)"
      ],
      "execution_count": 21,
      "outputs": [
        {
          "output_type": "stream",
          "text": [
            "No Frauds 99.83 % of the dataset\n",
            "Frauds 0.17 % of the dataset\n"
          ],
          "name": "stdout"
        },
        {
          "output_type": "execute_result",
          "data": {
            "text/plain": [
              "Text(0.5, 1.0, 'Class Distributions \\n (0: No Fraud || 1: Fraud)')"
            ]
          },
          "metadata": {
            "tags": []
          },
          "execution_count": 21
        },
        {
          "output_type": "display_data",
          "data": {
            "image/png": "[encoded data removed]",
            "text/plain": [
              "<Figure size 432x288 with 1 Axes>"
            ]
          },
          "metadata": {
            "tags": []
          }
        }
      ]
    },
    {
      "cell_type": "markdown",
      "metadata": {
        "id": "4I-6cUbfy_pk",
        "colab_type": "text"
      },
      "source": [
        "&nbsp;&nbsp;&nbsp;&nbsp;&nbsp;&nbsp;&nbsp;&nbsp;&nbsp;&nbsp;&nbsp;&nbsp;&nbsp;&nbsp;&nbsp;&nbsp;&nbsp;&nbsp;&nbsp;&nbsp;&nbsp;&nbsp;&nbsp;&nbsp;&nbsp;&nbsp;Fig. 1. Imbalance Distribution of Class Values"
      ]
    },
    {
      "cell_type": "markdown",
      "metadata": {
        "id": "NjZ1-Y0D10bD",
        "colab_type": "text"
      },
      "source": [
        "Fig.2 shows the correlation between each pair of attributes. The darker a block is, the stranger the negative correlation"
      ]
    },
    {
      "cell_type": "code",
      "metadata": {
        "id": "QetTHkcX10yC",
        "colab_type": "code",
        "colab": {
          "base_uri": "https://localhost:8080/",
          "height": 330
        },
        "outputId": "ffc392d4-7fc3-46a4-d460-ca087f62ccc6"
      },
      "source": [
        "correlated_data = df.corr()\n",
        "plt.figure(figsize=(7,4.5))\n",
        "sns.heatmap(correlated_data, annot=False)"
      ],
      "execution_count": 22,
      "outputs": [
        {
          "output_type": "execute_result",
          "data": {
            "text/plain": [
              "<matplotlib.axes._subplots.AxesSubplot at 0x7fdfb12ffbe0>"
            ]
          },
          "metadata": {
            "tags": []
          },
          "execution_count": 22
        },
        {
          "output_type": "display_data",
          "data": {
            "image/png": "[encoded data removed]",
            "text/plain": [
              "<Figure size 504x324 with 2 Axes>"
            ]
          },
          "metadata": {
            "tags": []
          }
        }
      ]
    },
    {
      "cell_type": "markdown",
      "metadata": {
        "id": "shw9TXD74aB3",
        "colab_type": "text"
      },
      "source": [
        "### &nbsp;&nbsp;&nbsp;&nbsp;&nbsp;&nbsp;&nbsp;&nbsp;&nbsp;&nbsp;&nbsp;&nbsp;&nbsp;&nbsp;&nbsp;Fig. 2. Correlations Matrix if the dataset \n",
        "\n"
      ]
    },
    {
      "cell_type": "markdown",
      "metadata": {
        "id": "VDktp-AaqXDc",
        "colab_type": "text"
      },
      "source": [
        "## 2.3 Plan for Data Model\n",
        "To combine the two optimizing algorithms, the data model this paper introduced plans to run NN with ]backpropagation first. Then the accuracies and AUCs of different parameters are calculated as the input of NSGA-II. NSGA-II use this information from backpropagation to conduct further optimization. This optimization utilizes only a small part of the dataset, and finally, the performance of the model is evaluated on the whole dataset.   \n",
        "For simplexity, the design of our model only includes 2 criterion, which is accuracy and AUC, and their weights for evaluation are the same. "
      ]
    },
    {
      "cell_type": "markdown",
      "metadata": {
        "id": "mg3vIS3OqZbB",
        "colab_type": "text"
      },
      "source": [
        "## 2.4 Plan for Tests"
      ]
    },
    {
      "cell_type": "markdown",
      "metadata": {
        "id": "eIZkMawpCY1k",
        "colab_type": "text"
      },
      "source": [
        "As described previously, the test of the model this paper introduced is applied to the whole dataset. This paper plans to compare the performances of the model before NSGA-II and after NSGA-II. This result will be shown in section 4."
      ]
    },
    {
      "cell_type": "markdown",
      "metadata": {
        "id": "PBgpi-KJX_jJ",
        "colab_type": "text"
      },
      "source": [
        "# 3. Methodology\n",
        "\n",
        "<p align=\"left\">As the Fig. 3 shown, firstly, the data will be re-sampled to be balanced data samples, because in the data set the number of fraud data and truth data is extremely unbalanced. Besides, the training data and test data will be extracted from the re-sampled data set. Secondly, N neural networks will be initialized with the training data and trained with the back-propagation algorithm for getting the original solutions(weight and bias) for the prediction. Thirdly, the framework will pass the solutions to the NSGA-II process for achieving multi-objectives optimization. Fourthly, the solutions will be sorted by multi-objective sorting rules so that they can be applied in the crossover process. Fifthly, crossover processing will generate N child solutions from their parent solutions. Sixthly, the mutation will happen in N child solutions for getting more possible solutions. Seventhly, with N child solutions and N original parent solutions, in this part, there will be N best solutions evaluated and selected by the multi-objective sorting algorithm. Last, the framework will check whether the process comes to the last iteration. If the current iteration isn’t the last round, the process will back to the third step - NSGA-II processing.</p>\n",
        "<center><img src=\"https://github.com/geroboog/machineLearning/blob/master/a2_workflow.JPG?raw=true\" width=300 hspace=\"5\" vspace=\"5\" /></center><center><p>Fig. 3 The MCDM framework basing on NSGA-II algorithm and neural network</p></center>"
      ]
    },
    {
      "cell_type": "markdown",
      "metadata": {
        "id": "sa0gqkc9evht",
        "colab_type": "text"
      },
      "source": [
        "## 3.1 Backpropogation\n",
        "The mechanism of backpropagation is adjusting each of the weights by \"error signal\", which is defined by\n",
        "\n",
        "$δ_{pj}= f'_j (net_pj)∑_kδ_{pk} w_{kj} $ \n",
        "\n",
        "Minsky and Papert (1969)\n",
        "\n",
        "In this formula, $δ_{pj}$ is the error signal of one perceptron, which is calculated by multiplying its derivative of activation function with respect to its net input $f'_j (net_pj)$ and  of the weighted sum of error signals from its output perceptrons.\n",
        "In this mechanism, the error signals, computed by the output of the network and the target value, is the only factor for optimizaing the network. Thus, it is incapable for dealing with multi-objective problem, in which error is only one factor.\n"
      ]
    },
    {
      "cell_type": "markdown",
      "metadata": {
        "id": "sptxQkfEe2NS",
        "colab_type": "text"
      },
      "source": [
        "## 3.2 Non-dominating Sorting Genetic algorithm-II (NSGA-II)\n",
        "To achieve multi-objective optimization and reduce the computational complexity of neural network, NSGA-II is introduced. NSGA-II is one of the best  multi objective optimizations (MoGAs) with fast sorting and elite multi objective genetic algorithm features (Yusoff, Ngadiman & Zain 2011). Its fast sorting technique can efficently calculate elements in muliple layers of Pareto fronts for GA operations. Those elements are then used as parents for generating offsprings by Genetic Algorithms (GAs). GAs are stochastic optimization algorithm which aim at keeping the features of old solutions by \"crossover\" them and generating new fefatures by \"mutate\" their offsprings. The crossover operation is defined as the following equation:\n",
        "\n",
        "$\n",
        "s^{j}_{new}=\n",
        "\\begin{Bmatrix}\n",
        " \\gamma_1s^{j}_{parent_1}+(1-\\gamma_1)s^{j}_{parent_2}, j=1,...t\\\\\n",
        " \\gamma_2s^{j}_{parent_1}+(1-\\gamma_2)s^{j}_{parent_2},j=t+1,...D\n",
        " \\end{Bmatrix}\n",
        "$\n",
        "\n",
        "In this equation, $s^{j}_{new}$ is the $j^{th}$ component of the new sulution, $\\gamma_1$ and $\\gamma_2$ are two random values in a range of [0,1]. $s^{j}_{parent_1}$ and $s^{j}_{parent_2}$ are the $j^{th}$ components of its two parent solutions. The mutation operation is simple in our design, for which only one fator is multiplied with the relevant component of s, as it shows in the following equation:\n",
        "$\n",
        "s^{j}= \\gamma_3s^{j}\n",
        "$\n",
        "\n",
        "\n",
        "\n",
        "As a result, NSGA-II is much faster and competent for dealing with multi-objective problems the backpropagation, although backpropagation is more accurate than NSGA-II. "
      ]
    },
    {
      "cell_type": "markdown",
      "metadata": {
        "id": "sPd_NRi7fdAp",
        "colab_type": "text"
      },
      "source": [
        "## 3.3 Implement Algorithms\n",
        "In this section, excutable algorithm is displayed step by step. The original python code and dataset can be acccessed on github, with URL of \"https://github.com/ouliang0128/machine_learning_assignment2\". For the back propagation optimized NN, this research applies the NN struture provided by \"sklearn\" package. For the NSGA-II optimazition algorithm, we designed it upon haris989's design, the URL of his/her gitbub is \"https://github.com/haris989/NSGA-II\". "
      ]
    },
    {
      "cell_type": "code",
      "metadata": {
        "colab_type": "code",
        "id": "p5Jn4EKIrJ2t",
        "colab": {
          "base_uri": "https://localhost:8080/",
          "height": 161
        },
        "outputId": "e621764e-2f97-4db0-cbe3-1f40c4c2be2b"
      },
      "source": [
        "# After import the dataset, we can see that it contains 31 columns, among which \n",
        "# the first 30 columns are attributes and the last columns are target 'Class'.\n",
        "print(df.head(5))"
      ],
      "execution_count": 23,
      "outputs": [
        {
          "output_type": "stream",
          "text": [
            "   Time        V1        V2        V3  ...       V27       V28  Amount  Class\n",
            "0   0.0 -1.359807 -0.072781  2.536347  ...  0.133558 -0.021053  149.62      0\n",
            "1   0.0  1.191857  0.266151  0.166480  ... -0.008983  0.014724    2.69      0\n",
            "2   1.0 -1.358354 -1.340163  1.773209  ... -0.055353 -0.059752  378.66      0\n",
            "3   1.0 -0.966272 -0.185226  1.792993  ...  0.062723  0.061458  123.50      0\n",
            "4   2.0 -1.158233  0.877737  1.548718  ...  0.219422  0.215153   69.99      0\n",
            "\n",
            "[5 rows x 31 columns]\n"
          ],
          "name": "stdout"
        }
      ]
    },
    {
      "cell_type": "code",
      "metadata": {
        "colab_type": "code",
        "id": "TUwgAdherJ2r",
        "colab": {}
      },
      "source": [
        "# required packages and some parameters of our model is defined as following:    \n",
        "from sklearn.neural_network import MLPClassifier\n",
        "from sklearn.metrics import roc_curve\n",
        "from sklearn.metrics import auc\n",
        "import matplotlib.pyplot as plt\n",
        "from sklearn.model_selection import train_test_split\n",
        "from sklearn.metrics import confusion_matrix\n",
        "from sklearn.model_selection import KFold\n",
        "import pandas as pd\n",
        "import numpy as np\n",
        "from sklearn.metrics import accuracy_score\n",
        "from sklearn.metrics import roc_auc_score\n",
        "from sklearn.metrics import f1_score\n",
        "import math\n",
        "import random\n",
        "\n",
        "_SwarmSize=50       # _SwarmSize defines the number of solutions for NSGA-II \n",
        "                    #algorithm, it also aligned with the number of \n",
        "max_gen = 100       # max_gen defines the max iteration for NSGA-II Loop\n",
        "gen_no=0            # gen_no=0 initilized the iteration number for NSGA-II Loop\n",
        "RAND_MAX = 32767    # RAND_MAX is the random seed\n"
      ],
      "execution_count": 0,
      "outputs": []
    },
    {
      "cell_type": "code",
      "metadata": {
        "colab_type": "code",
        "id": "K-Vc2a9ArJ2n",
        "colab": {
          "base_uri": "https://localhost:8080/",
          "height": 71
        },
        "outputId": "c9f109e0-e362-41aa-ce02-06b5894e42e5"
      },
      "source": [
        "# After all initial imports and parameter definations, dataset is proprecessed \n",
        "def preprocessing (df):\n",
        "    count_class_0, count_class_1 = df.Class.value_counts() \n",
        "    # over sampling to overcome class imbalance problem, '0's represent normal \n",
        "    # transaction, '1's represent fraud transactions\n",
        "    df_class_0 = df[df['Class'] == 0]\n",
        "    df_class_1 = df[df['Class'] == 1]\n",
        "    df_class_1_over = df_class_1.sample(count_class_0, replace=True)\n",
        "    df_test_over = pd.concat([df_class_0, df_class_1_over], axis=0)\n",
        "       \n",
        "    # because the original dataset is to large, we only chose 20,000 records of\n",
        "    # out more thant 50 thousands total records\n",
        "    df_test_over=df_test_over.sample(n=20000)\n",
        "    \n",
        "    # because other preprocessing process is already done, such as normalization\n",
        "    # and interaction, PCA, we directly split the dataset into features,\"X\", \n",
        "    # and traget,\"y\".\n",
        "    x = df_test_over.drop('Class',1)\n",
        "    y = df_test_over.Class.astype('category',copy=False)\n",
        "    return x,y\n",
        "X,y = preprocessing(df)\n",
        "print('Original dataset has shape like: ',df.shape)\n",
        "print('Features of the dataset have shape like: ',X.shape)\n",
        "print('Target class has shape like: ',y.shape)\n"
      ],
      "execution_count": 25,
      "outputs": [
        {
          "output_type": "stream",
          "text": [
            "Original dataset has shape like:  (284807, 31)\n",
            "Features of the dataset have shape like:  (20000, 30)\n",
            "Target class has shape like:  (20000,)\n"
          ],
          "name": "stdout"
        }
      ]
    },
    {
      "cell_type": "code",
      "metadata": {
        "colab_type": "code",
        "id": "PDBgL8f5rJ2k",
        "colab": {}
      },
      "source": [
        "# we split data into 80% training_set and 20% testing_set, them trainingset is \n",
        "# use for k-fold cross_validation, where k=_SwarmSize=50\n",
        "xf_train, xf_valid, yf_train, yf_valid= train_test_split(X,y,random_state=42, \n",
        "                                                         test_size=0.2)\n",
        "mlpi=MLPClassifier()\n",
        "cv = KFold(n_splits=_SwarmSize, random_state=42, shuffle=False)"
      ],
      "execution_count": 0,
      "outputs": []
    },
    {
      "cell_type": "code",
      "metadata": {
        "colab_type": "code",
        "id": "KtCW8MqkrJ2g",
        "colab": {}
      },
      "source": [
        "# Then we initiately train 50 models with backpropagation optimized neural network. \n",
        "# After tainning, parameters (weights and bias) and their fitness values (Accuracy \n",
        "# scores and AUC scores) are collected\n",
        "# Those parameters are used for NSGA-II sorting and optimizing.\n",
        "\n",
        "def get_para(model):\n",
        "# function for extract parameters from model\n",
        "    para = []\n",
        "    for j in range(len(model.coefs_)):\n",
        "        for k in range(len((model.coefs_[j]))):\n",
        "            # if len((model.coefs_[j]))==1:\n",
        "            #     coeff.append((model.coefs_[j]))\n",
        "            for l in range((len(model.coefs_[j][k]))):\n",
        "                para.append(model.coefs_[j][k][l])\n",
        "    for j in range (len(model.intercepts_)):\n",
        "        for k in range(len((model.intercepts_[j]))):\n",
        "            para.append(model.intercepts_[j][k])\n",
        "    return para\n",
        "mlp=[]\n",
        "f1=[]\n",
        "f2=[]\n",
        "for train_index, test_index in cv.split(xf_train):\n",
        "    # cross validation\n",
        "    X_train, X_test, y_train, y_test = xf_train.iloc[train_index], \\\n",
        "    xf_train.iloc[test_index], yf_train.iloc[train_index], \\\n",
        "    yf_train.iloc[test_index]\n",
        "    mlpi=MLPClassifier(hidden_layer_sizes=(X.shape[1],10,10,10,10,10,5,2),max_iter=100)\n",
        "    mlpi.fit(X_train,y_train)\n",
        "    predi=mlpi.predict(xf_valid)\n",
        "    accuracyi=accuracy_score(yf_valid, predi)\n",
        "    roci=roc_auc_score(yf_valid, predi)\n",
        "    f1.append(accuracyi)\n",
        "    f2.append(roci)\n",
        "    parai=get_para(mlpi)\n",
        "    mlp.append(np.asarray(parai))"
      ],
      "execution_count": 0,
      "outputs": []
    },
    {
      "cell_type": "code",
      "metadata": {
        "colab_type": "code",
        "id": "k6-cPb-vrJ2b",
        "colab": {}
      },
      "source": [
        "# Look at how the initalized models perform\n",
        "\n",
        "\n",
        "def draw_roc(y_test,preds):\n",
        "# function for drawing the ROC curve\n",
        "    fpr, tpr, threshold = roc_curve(y_test, preds)\n",
        "    roc_auc = auc(fpr, tpr)\n",
        "    plt.title('ROC Curve')\n",
        "    plt.plot(fpr, tpr, 'b', label = 'AUC = %0.2f' % roc_auc)\n",
        "    plt.legend(loc = 'lower right')\n",
        "    plt.plot([0, 1], [0, 1],'r--')\n",
        "    plt.xlim([0, 1])\n",
        "    plt.ylim([0, 1])\n",
        "    plt.ylabel('True Positive Rate')\n",
        "    plt.xlabel('False Positive Rate')\n",
        "    plt.show()\n",
        "def set_para(model,solution):\n",
        "# function for sending parameters to NN model \n",
        "    count = 0\n",
        "    for j in range(len(model.coefs_)):\n",
        "        for k in range((len(model.coefs_[j]))):\n",
        "            for l in range((len(model.coefs_[j][k]))):\n",
        "                model.coefs_[j][k][l] = solution[count]\n",
        "                count += 1\n",
        "    for j in range(len(model.intercepts_)):\n",
        "        for k in range((len(model.intercepts_[j]))):\n",
        "            model.intercepts_[j][k] = solution[count]\n",
        "            count += 1   "
      ],
      "execution_count": 0,
      "outputs": []
    },
    {
      "cell_type": "code",
      "metadata": {
        "id": "5claY0vXO3W-",
        "colab_type": "code",
        "colab": {
          "base_uri": "https://localhost:8080/",
          "height": 107
        },
        "outputId": "11381f75-c49d-42f5-e918-cb5f17d3d590"
      },
      "source": [
        "f1_np=np.asarray(f1)\n",
        "f2_np=np.asarray(f2)\n",
        "\n",
        "# print(\"Before GA, accuracies for models are: \",1-f1_np)\n",
        "print(\"the best accuracy is: \",f1_np.max())\n",
        "\n",
        "\n",
        "bestind=f1_np.argmax()\n",
        "# print(\"Before GA, AUC for models are,\",1-f2_np)\n",
        "print(\"the most accurate one's AUC is: \",f2_np[bestind])\n",
        "\n",
        "set_para(mlpi,mlp[bestind])\n",
        "yp_test=mlpi.predict(xf_valid)\n",
        "cm=confusion_matrix(yf_valid, yp_test)\n",
        "print(\"The confusion_matrix of the most accurate one before GA is :\")\n",
        "print(cm)"
      ],
      "execution_count": 29,
      "outputs": [
        {
          "output_type": "stream",
          "text": [
            "the best accuracy is:  0.902\n",
            "the most accurate one's AUC is:  0.9019712254928064\n",
            "The confusion_matrix of the most accurate one before GA is :\n",
            "[[1688  311]\n",
            " [  81 1920]]\n"
          ],
          "name": "stdout"
        }
      ]
    },
    {
      "cell_type": "code",
      "metadata": {
        "id": "nvKCXgY5Qtwu",
        "colab_type": "code",
        "colab": {
          "base_uri": "https://localhost:8080/",
          "height": 295
        },
        "outputId": "3231451d-11ce-4a55-80dd-26688d1f7092"
      },
      "source": [
        "draw_roc(yf_valid,yp_test)"
      ],
      "execution_count": 30,
      "outputs": [
        {
          "output_type": "display_data",
          "data": {
            "image/png": "[encoded data removed]",
            "text/plain": [
              "<Figure size 432x288 with 1 Axes>"
            ]
          },
          "metadata": {
            "tags": []
          }
        }
      ]
    },
    {
      "cell_type": "markdown",
      "metadata": {
        "id": "H9ldGVl6DeEV",
        "colab_type": "text"
      },
      "source": [
        "&nbsp;&nbsp;&nbsp;&nbsp;&nbsp;&nbsp;&nbsp;&nbsp;&nbsp;&nbsp;&nbsp;&nbsp;&nbsp;&nbsp;&nbsp;&nbsp;Fig. 4. ROC Curve for the model parameter after crossvalidation"
      ]
    },
    {
      "cell_type": "code",
      "metadata": {
        "colab_type": "code",
        "id": "FZDsLvTarJ2W",
        "colab": {}
      },
      "source": [
        "# Prepare for NSGA_II loop\n",
        "# give NSGA the parameters extracted from initial networks\n",
        "solution=mlp[:]\n",
        "# set population size = number of solutions\n",
        "pop_size=len(solution)\n",
        "# the first objective is accuracy of the model\n",
        "function1_values = [f1[i] for i in range (len(f1))]\n",
        "# the second objective is the AUC score of the model\n",
        "function2_values = [f2[i] for i in range (len(f2))]       "
      ],
      "execution_count": 0,
      "outputs": []
    },
    {
      "cell_type": "code",
      "metadata": {
        "colab_type": "code",
        "id": "FTq-wWsTrJ2R",
        "colab": {}
      },
      "source": [
        "# This part is the definations of all methods need for NSGA-II\n",
        "# random value generato\n",
        "def randn(nmin, nmax):\n",
        "    thisRand = ((random.randint(0, RAND_MAX) / (RAND_MAX + 1.0))) * \\\n",
        "    (nmax - nmin) + nmin;\n",
        "    return thisRand\n",
        "\n",
        "# find the index of value \"a\" in a list\n",
        "def index_of(a,list):\n",
        "    for i in range(0,len(list)):\n",
        "        if list[i] == a:\n",
        "            return i\n",
        "    return -1\n",
        "\n",
        "#Function to sort by values\n",
        "def sort_by_values(list1, values):\n",
        "    sorted_list = []\n",
        "    while(len(sorted_list)!=len(list1)):\n",
        "        if index_of(min(values),values) in list1:\n",
        "            sorted_list.append(index_of(min(values),values))\n",
        "\n",
        "        values[index_of(min(values),values)] = math.inf\n",
        "    return sorted_list\n",
        "\n",
        "#Function to carry out NSGA-II's fast non dominated sort\n",
        "def fast_non_dominated_sort(values1, values2):\n",
        "    S=[[] for i in range(0,len(values1))]\n",
        "    front = [[]]\n",
        "    n=[0 for i in range(0,len(values1))]\n",
        "    rank = [0 for i in range(0, len(values1))]\n",
        "\n",
        "    for p in range(0,len(values1)):\n",
        "        S[p]=[]\n",
        "        n[p]=0\n",
        "        for q in range(0, len(values1)):\n",
        "            if (values1[p] > values1[q] and values2[p] > values2[q]) or \\\n",
        "            (values1[p] >= values1[q] and values2[p] > values2[q]) or \\\n",
        "            (values1[p] > values1[q] and values2[p] >= values2[q]):\n",
        "                if q not in S[p]:\n",
        "                    S[p].append(q)\n",
        "            elif (values1[q] > values1[p] and values2[q] > values2[p]) or \\\n",
        "            (values1[q] >= values1[p] and values2[q] > values2[p]) or \\\n",
        "            (values1[q] > values1[p] and values2[q] >= values2[p]):\n",
        "                n[p] = n[p] + 1\n",
        "        if n[p]==0:\n",
        "            rank[p] = 0\n",
        "            if p not in front[0]:\n",
        "                front[0].append(p)\n",
        "    i = 0\n",
        "    while(front[i] != []):\n",
        "        Q=[]\n",
        "        for p in front[i]:\n",
        "            for q in S[p]:\n",
        "                n[q] =n[q] - 1\n",
        "                if( n[q]==0):\n",
        "                    rank[q]=i+1\n",
        "                    if q not in Q:\n",
        "                        Q.append(q)\n",
        "        i = i+1\n",
        "        front.append(Q)\n",
        "\n",
        "    del front[len(front)-1]\n",
        "    return front\n",
        "\n",
        "#Function to calculate crowding distance\n",
        "def crowding_distance(values1, values2, front):\n",
        "    distance = [0 for i in range(0,len(front))]\n",
        "    sorted1 = sort_by_values(front, values1[:])\n",
        "    sorted2 = sort_by_values(front, values2[:])\n",
        "    distance[0] = 4444444444444444\n",
        "    distance[len(front) - 1] = 4444444444444444\n",
        "    for k in range(1,len(front)-1):\n",
        "        distance[k] = distance[k]+ (values1[sorted1[k+1]] - \\\n",
        "                                    values2[sorted1[k-1]])/ \\\n",
        "        (max(values1)-min(values1)+0.00000001)\n",
        "    for k in range(1,len(front)-1):\n",
        "        distance[k] = distance[k]+ (values1[sorted2[k+1]] - \\\n",
        "                                    values2[sorted2[k-1]])/ \\\n",
        "        (max(values2)-min(values2)+0.00000001)\n",
        "    return distance\n",
        "\n",
        "#Function to carry out the crossover\n",
        "def crossover(a,b):\n",
        "    child1=np.zeros([len(a)])\n",
        "    child2=np.zeros([len(a)])\n",
        "    gama1=randn(0,1)\n",
        "    gama2 = randn(0, 1)\n",
        "    #chose the position for applying parents chromes\n",
        "    pos_sep=random.randint(1,len(a)-1) \n",
        "    for i in range (pos_sep):\n",
        "        child1[i] = gama1 * a[i] + (1 - gama1) * b[i]\n",
        "        child2[i] = gama1 * b[i] + (1 - gama1) * a[i]\n",
        "    for i in range (pos_sep,len(a)):\n",
        "        child1[i] = gama2 * a[i] + (1 - gama2) * b[i]\n",
        "        child2[i] = gama2 * b[i] + (1 - gama2) * a[i]\n",
        "    return child1\n",
        "\n",
        "#Function to carry out the mutation operator, mutaion rate is set to 5%\n",
        "def mutation(solution):\n",
        "    for i in range (len(solution)):\n",
        "        if randn(0, 1)<0.05:\n",
        "            solution[i]=randn(0, 1)*solution[i]\n",
        "    return solution\n"
      ],
      "execution_count": 0,
      "outputs": []
    },
    {
      "cell_type": "code",
      "metadata": {
        "colab_type": "code",
        "id": "2aYesMsurJ2D",
        "colab": {}
      },
      "source": [
        "# The main loop for NSGA-II optimization\n",
        "while(gen_no<max_gen): # run 100 times\n",
        "    # get indeces for non-dominated solutions \n",
        "    non_dominated_sorted_solution = fast_non_dominated_sort(function1_values[:],\n",
        "                                                            function2_values[:])\n",
        "    # calculating crowding distances for choing front\n",
        "    crowding_distance_values=[]\n",
        "    for i in range(0,len(non_dominated_sorted_solution)):\n",
        "        crowding_distance_values.append(crowding_distance(function1_values[:], \n",
        "                                                          function2_values[:],                                                          \n",
        "                                          non_dominated_sorted_solution[i][:]))\n",
        "        \n",
        "    # construct new population\n",
        "    solution2 = solution[:] # first half of the new population is set as previous ones.\n",
        "    \n",
        "    #Generating offsprings\n",
        "    while(len(solution2)!=2*pop_size):\n",
        "        a1 = random.randint(0,pop_size-1)    # chose parents for crossover\n",
        "        b1 = random.randint(0,pop_size-1)\n",
        "        if randn(0,1)>0.5:\n",
        "            solution2.append(crossover(solution[a1],solution[b1]))\n",
        "    # mutate offsprings\n",
        "    for i in range (pop_size,len(solution2)):\n",
        "        solution2[i]=mutation(solution2[i])\n",
        "\n",
        "    # initiate new fitness values\n",
        "    function1_values2=[]\n",
        "    function2_values2=[]\n",
        "    # evaluation children\n",
        "    for i in range(len(solution2)):\n",
        "        set_para(mlpi,solution2[i])\n",
        "        y_pred1=mlpi.predict(xf_valid)\n",
        "        function1_values2.append(accuracy_score(yf_valid, y_pred1))\n",
        "        function2_values2.append(roc_auc_score(yf_valid, y_pred1))\n",
        "\n",
        "    # Sorting children...\n",
        "    non_dominated_sorted_solution2 = fast_non_dominated_sort \\\n",
        "    (function1_values2[:],function2_values2[:]) \n",
        "    crowding_distance_values2=[]\n",
        "    for i in range(0,len(non_dominated_sorted_solution2)):\n",
        "        crowding_distance_values2.append(crowding_distance \\\n",
        "                                         (function1_values2[:], \\\n",
        "                                          function2_values2[:], \\\n",
        "                          non_dominated_sorted_solution2[i][:]))\n",
        "    new_solution= []\n",
        "    for i in range(0,len(non_dominated_sorted_solution2)):\n",
        "        non_dominated_sorted_solution2_1 = \\\n",
        "        [index_of(non_dominated_sorted_solution2[i][j], \\\n",
        "                  non_dominated_sorted_solution2[i] ) \\\n",
        "         for j in range(0,len(non_dominated_sorted_solution2[i]))]\n",
        "        front22 = sort_by_values(non_dominated_sorted_solution2_1[:], \\\n",
        "                                 crowding_distance_values2[i][:])\n",
        "        front = [non_dominated_sorted_solution2[i][front22[j]]  \n",
        "                 for j in range(0,len(non_dominated_sorted_solution2[i]))]\n",
        "        front.reverse()\n",
        "        for value in front:\n",
        "            new_solution.append(value)\n",
        "            if(len(new_solution)==pop_size):\n",
        "                break\n",
        "        if (len(new_solution) == pop_size):\n",
        "            break\n",
        "    # solution is overwriten for the next iteration \n",
        "    solution = [solution2[i] for i in new_solution]\n",
        "    # update fitness values\n",
        "    function1_values=[]\n",
        "    function2_values=[]\n",
        "    for i in range (pop_size):\n",
        "        set_para(mlpi,solution[i])\n",
        "        y_pred2=mlpi.predict(xf_valid)\n",
        "        function1_values.append(accuracy_score(yf_valid, y_pred2))\n",
        "        function2_values.append(roc_auc_score(yf_valid, y_pred2))\n",
        "    gen_no = gen_no + 1"
      ],
      "execution_count": 0,
      "outputs": []
    },
    {
      "cell_type": "code",
      "metadata": {
        "colab_type": "code",
        "id": "YVdcH2X1rJ12",
        "colab": {
          "base_uri": "https://localhost:8080/",
          "height": 125
        },
        "outputId": "fd37786b-b429-41bf-c8a3-a72b24d308c1"
      },
      "source": [
        "# We can now look at the final fitness valules and confusion matrix after NSGA-II\n",
        "print(\"visualize\")\n",
        "function1 = [i  for i in function1_values]\n",
        "function2 = [j  for j in function2_values]\n",
        "f=np.asarray(function1)+np.asarray(function2)\n",
        "best_ind=f.argmax()\n",
        "set_para(mlpi,solution[best_ind])\n",
        "yf_pred=mlpi.predict(xf_valid)\n",
        "cm2=confusion_matrix(yf_valid, yf_pred)\n",
        "print(\"The confusion_matrix for the best ANNClassifier is :\")\n",
        "print(cm2)\n",
        "print(\"After GA, the best accuracy is: \",function1[best_ind])\n",
        "print(\"After GA, the best AUC is: \",function2[best_ind])"
      ],
      "execution_count": 34,
      "outputs": [
        {
          "output_type": "stream",
          "text": [
            "visualize\n",
            "The confusion_matrix for the best ANNClassifier is :\n",
            "[[1979   20]\n",
            " [ 284 1717]]\n",
            "After GA, the best accuracy is:  0.924\n",
            "After GA, the best AUC is:  0.9240329810082453\n"
          ],
          "name": "stdout"
        }
      ]
    },
    {
      "cell_type": "code",
      "metadata": {
        "id": "ObRqhGs_QyLD",
        "colab_type": "code",
        "colab": {
          "base_uri": "https://localhost:8080/",
          "height": 295
        },
        "outputId": "5022276c-5674-4474-eccf-c2ec4e5e9b43"
      },
      "source": [
        "draw_roc(yf_valid,yf_pred)"
      ],
      "execution_count": 35,
      "outputs": [
        {
          "output_type": "display_data",
          "data": {
            "image/png": "[encoded data removed]",
            "text/plain": [
              "<Figure size 432x288 with 1 Axes>"
            ]
          },
          "metadata": {
            "tags": []
          }
        }
      ]
    },
    {
      "cell_type": "markdown",
      "metadata": {
        "id": "zC8Xk_CVE04K",
        "colab_type": "text"
      },
      "source": [
        "### &nbsp;\n",
        "&nbsp;&nbsp;&nbsp;&nbsp;&nbsp;&nbsp;&nbsp;&nbsp;&nbsp;&nbsp;&nbsp;&nbsp;&nbsp;Fig. 5. ROC Curve for the model parameters after NSGA-II"
      ]
    },
    {
      "cell_type": "markdown",
      "metadata": {
        "id": "GCuvkF3sYAG0",
        "colab_type": "text"
      },
      "source": [
        "# 4. Evaluation"
      ]
    },
    {
      "cell_type": "markdown",
      "metadata": {
        "id": "KVT49R8-oByZ",
        "colab_type": "text"
      },
      "source": [
        "Now we can evaluate our two models, the one before NSGA-II, and the one after NSGA-II on the original dataset "
      ]
    },
    {
      "cell_type": "code",
      "metadata": {
        "id": "XRUKjya0qGsE",
        "colab_type": "code",
        "colab": {
          "base_uri": "https://localhost:8080/",
          "height": 107
        },
        "outputId": "d02c6904-ce64-44da-c2ad-330edbfb0c18"
      },
      "source": [
        "Features=df.drop('Class',1)\n",
        "Target=df.Class.astype('category',copy=False)\n",
        "set_para(mlpi,mlp[bestind])\n",
        "y_pred=mlpi.predict(Features)\n",
        "cm=confusion_matrix(Target, y_pred)\n",
        "print(\"Without NSGA-II optimization, model's CM is: \")\n",
        "print(cm)\n",
        "print(\"Without NSGA-II optimization accuracy is: \",accuracy_score(Target, y_pred))\n",
        "print(\"Without NSGA-II optimization AUC is: \",roc_auc_score(Target, y_pred))"
      ],
      "execution_count": 38,
      "outputs": [
        {
          "output_type": "stream",
          "text": [
            "Without NSGA-II optimization, model's CM is: \n",
            "[[236771  47544]\n",
            " [    19    473]]\n",
            "Without NSGA-II optimization accuracy is:  0.8329991889244295\n",
            "Without NSGA-II optimization AUC is:  0.897079569651719\n"
          ],
          "name": "stdout"
        }
      ]
    },
    {
      "cell_type": "code",
      "metadata": {
        "id": "04UdbQy1Q2zo",
        "colab_type": "code",
        "colab": {
          "base_uri": "https://localhost:8080/",
          "height": 295
        },
        "outputId": "446ac255-1216-4f94-8e8d-8879a4c088a4"
      },
      "source": [
        "draw_roc(Target,y_pred)"
      ],
      "execution_count": 39,
      "outputs": [
        {
          "output_type": "display_data",
          "data": {
            "image/png": "[encoded data removed]",
            "text/plain": [
              "<Figure size 432x288 with 1 Axes>"
            ]
          },
          "metadata": {
            "tags": []
          }
        }
      ]
    },
    {
      "cell_type": "markdown",
      "metadata": {
        "id": "inVLBdx0FTFG",
        "colab_type": "text"
      },
      "source": [
        "&nbsp;&nbsp;&nbsp;&nbsp;&nbsp;&nbsp;&nbsp;&nbsp;&nbsp;&nbsp;&nbsp;&nbsp;&nbsp;&nbsp;Fig. 6. ROC Curve for validation of the parameter before NSGA-II"
      ]
    },
    {
      "cell_type": "code",
      "metadata": {
        "id": "qoHySAbCn8W4",
        "colab_type": "code",
        "colab": {
          "base_uri": "https://localhost:8080/",
          "height": 107
        },
        "outputId": "47d7f386-8c13-4e0e-cc67-4f828104feda"
      },
      "source": [
        "set_para(mlpi,solution[best_ind])\n",
        "y_pred=mlpi.predict(Features)\n",
        "cm=confusion_matrix(Target, y_pred)\n",
        "print(\"The NSGA optimized model's CM is: \")\n",
        "print(cm)\n",
        "print(\"The NSGA optimized accuracy is: \",accuracy_score(Target, y_pred))\n",
        "print(\"The NSGA optimized AUC is: \",roc_auc_score(Target, y_pred))"
      ],
      "execution_count": 40,
      "outputs": [
        {
          "output_type": "stream",
          "text": [
            "The NSGA optimized model's CM is: \n",
            "[[280488   3827]\n",
            " [    69    423]]\n",
            "The NSGA optimized accuracy is:  0.986320560941269\n",
            "The NSGA optimized AUC is:  0.9231478375710899\n"
          ],
          "name": "stdout"
        }
      ]
    },
    {
      "cell_type": "code",
      "metadata": {
        "id": "8Dt_8Qx0Q8A2",
        "colab_type": "code",
        "colab": {
          "base_uri": "https://localhost:8080/",
          "height": 295
        },
        "outputId": "b7f3bdf0-33d5-4124-d547-e0982b070646"
      },
      "source": [
        "draw_roc(Target,y_pred)"
      ],
      "execution_count": 41,
      "outputs": [
        {
          "output_type": "display_data",
          "data": {
            "image/png": "[encoded data removed]",
            "text/plain": [
              "<Figure size 432x288 with 1 Axes>"
            ]
          },
          "metadata": {
            "tags": []
          }
        }
      ]
    },
    {
      "cell_type": "markdown",
      "metadata": {
        "id": "B8Zbv-iDFaSG",
        "colab_type": "text"
      },
      "source": [
        "&nbsp;\n",
        "&nbsp;&nbsp;&nbsp;&nbsp;&nbsp;&nbsp;&nbsp;&nbsp;&nbsp;&nbsp;&nbsp;&nbsp;&nbsp;&nbsp;Fig. 7. ROC Curve for validation of the parameter after NSGA-II"
      ]
    },
    {
      "cell_type": "markdown",
      "metadata": {
        "id": "6ciD3gORtsiI",
        "colab_type": "text"
      },
      "source": [
        "By comparing the resutlt from Fig.6 and Fig.7, there is a tradeoff between two fitness. Although the accuracy looks very hight for the backpropagation optimized neural network, its AUC is comparatively low than the model trained in addition with NSGA-II. \n",
        "\n"
      ]
    },
    {
      "cell_type": "markdown",
      "metadata": {
        "id": "GHaWlAZ0YFrK",
        "colab_type": "text"
      },
      "source": [
        "# 5. Conclusion\n",
        "For achieving multi-objective optimization to address the class imbalance issue for fraud detection in the banking business and reduce time complexity for model training, this paper introduces a new neural network model, which combines backpropagation and NSGA-II optimization algorithms. Although there the test of the model shows there is a tradeoff between accuracy and AUC, the improvement of the new model for efficiency and effectiveness are neglectable. Because of the time limitation, this research has not explored many other possible designs for the models. For example, solutions after NSGA-II can further send to backpropagation for further training. Besides, objective functions can include other criteria, such as originality of record. These explorations can be done in the future."
      ]
    },
    {
      "cell_type": "markdown",
      "metadata": {
        "id": "-tdye0g-zgwh",
        "colab_type": "text"
      },
      "source": [
        "#6. Research Ethics\n",
        "\n",
        "In fraud detection research, the researcher should protect the privacy of the data owners and never reveal the data. But the data set used in this paper is provided from the Kaggle which is a public web site and all data and attributes of the data set are anonymously recorded. So it is impossible for people to extra information about specific data owners or credit cards from the data set. Besides, this research uses open sources including Python programming language, Sklearn library, and the NSGA-II from Github to implement the framework, so there are no copyright issues in this research. What's more, this research is for resolving one of the data crime issues, so even users may misuse this technology, it would not cause any illegal issues. However, if companies use this technology for business, they have to understand that this technology is still in a preliminary stage and it may predict the data in a wrong way which will cause the complaints of customers. For example, if the real user is using his or her credit card to online shopping and the model predicts the transaction is fraud, then he or she may not be able to purchase any goods at that moment. Therefore, the authors suggest this technology should be used for academic only at the current stage and improved in future studies."
      ]
    },
    {
      "cell_type": "markdown",
      "metadata": {
        "id": "Lkw1r0JqYXF5",
        "colab_type": "text"
      },
      "source": [
        "# References\n",
        "[1]Guo, C., Wang, H., Dai, H.-N., Cheng, S. & Wang, T. 2018, 'Fraud Risk Monitoring System for E-Banking Transactions', 2018 IEEE 16th Intl Conf on Dependable, Autonomic and Secure Computing, IEEE, pp. 100-105.\n",
        "\n",
        "[2]Kim, E., Lee, J., Shin, H., Yang, H., Cho, S., Nam, S.K., Song, Y., Yoon, J.A. & Kim, J.I. 2019, 'Champion-challenger analysis for credit card fraud detection: Hybrid ensemble and deep learning', Expert Systems with Applications, vol. 128, pp. 214-224.\n",
        "\n",
        "[3]Turban, E., Sharda, R. & Delen, D. 2010, Decision Support and Business Intelligence Systems, Ninth edn, Prentice Hall Press.\n",
        "\n",
        "[4]West, J. & Bhattacharya, M. 2016, 'Intelligent financial fraud detection: a comprehensive review', Computers & security, vol. 57, pp. 47-66.\n",
        "\n",
        "[5]Ravisankar, P., Ravi, V., Rao, G.R. & Bose, I. 2011, 'Detection of financial statement fraud and feature selection using data mining techniques', Decision Support Systems, vol. 50, no. 2, pp. 491-500.\n",
        "\n",
        "[6]Abbass, H.A. 2003, 'Speeding Up Backpropagation Using Multiobjective Evolutionary Algorithms', *Neural Computation*, vol. 15, no. 11, pp. 2705-26.\n",
        "\n",
        "[7]Yusoff, Y., Ngadiman, M.S. & Zain, A.M. 2011, 'Overview of NSGA-II for Optimizing Machining Process Parameters', *Procedia Engineering*, vol. 15, pp. 3978-83."
      ]
    }
  ]
}